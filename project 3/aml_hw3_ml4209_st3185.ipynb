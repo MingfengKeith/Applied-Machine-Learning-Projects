{
 "cells": [
  {
   "cell_type": "code",
   "execution_count": 1,
   "metadata": {},
   "outputs": [],
   "source": [
    "import pandas as pd\n",
    "import random as rd\n",
    "import numpy as np\n",
    "import warnings\n",
    "warnings.filterwarnings('ignore')"
   ]
  },
  {
   "cell_type": "markdown",
   "metadata": {},
   "source": [
    "## Task 1 Identify Features\n",
    "Assemble a dataset consisting of features and target (for example in a dataframe or in two arrays X and y). What features are relevant for the prediction task? What features should be excluded because they leak the target information? Show visualizations or statistics to support your selection."
   ]
  },
  {
   "cell_type": "markdown",
   "metadata": {},
   "source": [
    "### Task 1 Work Explanation: \n",
    "1. **Random Sampling**: Random Samples of size 10000 are selected from both the General and Research datasets and assembled into a dataset of 20000 rows. We only select the features that are common in two datasets as the missing columns will leak information of the target group. This process leaves us 64 features.\n",
    "2. **Missing Values**: Features with more than 50% missing values are dropped from the dataset, which reduces the number of features to 32.  \n",
    "\n",
    "**After finding all features that have more than 50 percent missing and exclude them, the team further reduces the number of features by finding the features that are either leaking information, highly repetitive, heavily imbalanced, or simply meaningless. These features are listed below.**\n",
    "\n",
    "3. **Leak information**: 'Physician_First_Name', 'Recipient_State', 'Recipient_City’, 'Applicable_Manufacturer_or_Applicable_GPO_Making_Payment_ID', 'Physician_Last_Name’, 'Physician_Profile_ID', 'Recipient_Primary_Business_Street_Address_Line1’, 'Recipient_Zip_Code’, 'Covered_Recipient_Type’, 'Physician_License_State_code1', 'Applicable_Manufacturer_or_Applicable_GPO_Making_Payment_State','Physician_Primary_Type'\n",
    "\n",
    "4. **Highly Repetitive**: 'Applicable_Manufacturer_or_Applicable_GPO_Making_Payment_Name' (corresponds with 'Submitting_Applicable_Manufacturer_or_Applicable_GPO_Name')\n",
    "\n",
    "5. **Heavily imbalanced**: 'Recipient_Country', 'Dispute_Status_for_Publication', 'Applicable_Manufacturer_or_Applicable_GPO_Making_Payment_Country', 'Program_Year’, 'Delay_in_Publication_Indicator', 'Change_Type'\n",
    "\n",
    "6. **Meaningless**: 'Record_ID’, 'Date_of_Payment’, 'Payment_Publication_Date’\n",
    "\n",
    "**That leaves the following features as possible candidates.**\n",
    "\n",
    "'Covered_or_Noncovered_Indicator_1',\n",
    "'Physician_Specialty',\n",
    "'Submitting_Applicable_Manufacturer_or_Applicable_GPO_Name',\n",
    "'Form_of_Payment_or_Transfer_of_Value',\n",
    "'Physician_Primary_Type',\n",
    "'Associated_Drug_or_Biological_NDC_1',\n",
    "'Indicate_Drug_or_Biological_or_Device_or_Medical_Supply_1',\n",
    "'Total_Amount_of_Payment_USDollars', \n",
    "'Product_Category_or_Therapeutic_Area_1',\n",
    "'Related_Product_Indicator',\n",
    "'Name_of_Drug_or_Biological_or_Device_or_Medical_Supply_1'"
   ]
  },
  {
   "cell_type": "code",
   "execution_count": 5,
   "metadata": {},
   "outputs": [
    {
     "name": "stdout",
     "output_type": "stream",
     "text": [
      "CPU times: user 55.4 s, sys: 6.51 s, total: 1min 1s\n",
      "Wall time: 1min 4s\n"
     ]
    }
   ],
   "source": [
    "%%time\n",
    "## Read GNRL dataset\n",
    "filename = \"OP_DTL_GNRL_PGYR2017_P01182019.csv\"\n",
    "n = sum(1 for line in open(filename)) -1\n",
    "s = 10000\n",
    "skip =sorted(rd.sample(range(1, n+1),n-s))\n",
    "GNRL = pd.read_csv(filename, skiprows = skip)"
   ]
  },
  {
   "cell_type": "code",
   "execution_count": 6,
   "metadata": {},
   "outputs": [
    {
     "name": "stdout",
     "output_type": "stream",
     "text": [
      "CPU times: user 3.54 s, sys: 458 ms, total: 4 s\n",
      "Wall time: 4.06 s\n"
     ]
    }
   ],
   "source": [
    "%%time\n",
    "## Read RSRCH dataset\n",
    "filename = \"OP_DTL_RSRCH_PGYR2017_P01182019.csv\"\n",
    "n = sum(1 for line in open(filename)) -1\n",
    "s = 10000\n",
    "skip =sorted(rd.sample(range(1, n+1),n-s))\n",
    "RSRCH = pd.read_csv(filename, skiprows = skip)"
   ]
  },
  {
   "cell_type": "code",
   "execution_count": 7,
   "metadata": {},
   "outputs": [
    {
     "data": {
      "text/plain": [
       "((20000, 64), (20000,))"
      ]
     },
     "execution_count": 7,
     "metadata": {},
     "output_type": "execute_result"
    }
   ],
   "source": [
    "## Assemble datasets X and y by taking common columns\n",
    "intersect = list(set(GNRL.columns).intersection(set(RSRCH.columns)))\n",
    "X = pd.concat([RSRCH[intersect], GNRL[intersect]], axis=0)\n",
    "y = np.concatenate((np.ones(10000), np.zeros(10000)), axis=0)\n",
    "X.shape, y.shape"
   ]
  },
  {
   "cell_type": "code",
   "execution_count": 8,
   "metadata": {},
   "outputs": [],
   "source": [
    "## Find features that have more than 50 percent missing data and drop them\n",
    "missing_percent = X.apply(lambda x: sum(x.isnull())/20000)\n",
    "missing_columns = []\n",
    "for i in range(len(missing_percent)):\n",
    "    if missing_percent[i] > 0.5:\n",
    "        missing_columns.append(X.columns[i])\n",
    "X_cleaned =X.drop(missing_columns, axis =1)"
   ]
  },
  {
   "cell_type": "code",
   "execution_count": 9,
   "metadata": {},
   "outputs": [
    {
     "name": "stdout",
     "output_type": "stream",
     "text": [
      "(20000, 32)\n"
     ]
    }
   ],
   "source": [
    "## print number of remaining features and their names\n",
    "print(X_cleaned.shape)"
   ]
  },
  {
   "cell_type": "code",
   "execution_count": 10,
   "metadata": {},
   "outputs": [
    {
     "name": "stdout",
     "output_type": "stream",
     "text": [
      "3467 unique values, Physician_First_Name\n",
      "37 unique values, Applicable_Manufacturer_or_Applicable_GPO_Making_Payment_State\n",
      "7338 unique values, Physician_Last_Name\n",
      "7 unique values, Physician_Primary_Type\n",
      "587 unique values, Applicable_Manufacturer_or_Applicable_GPO_Making_Payment_ID\n",
      "686 unique values, Associated_Drug_or_Biological_NDC_1\n",
      "8813 unique values, Recipient_Zip_Code\n",
      "3 unique values, Covered_or_Noncovered_Indicator_1\n",
      "1741 unique values, Name_of_Drug_or_Biological_or_Device_or_Medical_Supply_1\n",
      "2 unique values, Dispute_Status_for_Publication\n",
      "9958 unique values, Physician_Profile_ID\n",
      "597 unique values, Applicable_Manufacturer_or_Applicable_GPO_Making_Payment_Name\n",
      "20000 unique values, Record_ID\n",
      "3540 unique values, Recipient_City\n",
      "18 unique values, Applicable_Manufacturer_or_Applicable_GPO_Making_Payment_Country\n",
      "53 unique values, Physician_License_State_code1\n",
      "1 unique values, Delay_in_Publication_Indicator\n",
      "4 unique values, Recipient_Country\n",
      "171 unique values, Physician_Specialty\n",
      "54 unique values, Recipient_State\n",
      "3 unique values, Change_Type\n",
      "2 unique values, Related_Product_Indicator\n",
      "357 unique values, Date_of_Payment\n",
      "5 unique values, Indicate_Drug_or_Biological_or_Device_or_Medical_Supply_1\n",
      "631 unique values, Product_Category_or_Therapeutic_Area_1\n",
      "1 unique values, Payment_Publication_Date\n",
      "4 unique values, Covered_Recipient_Type\n",
      "519 unique values, Submitting_Applicable_Manufacturer_or_Applicable_GPO_Name\n",
      "4 unique values, Form_of_Payment_or_Transfer_of_Value\n",
      "13790 unique values, Recipient_Primary_Business_Street_Address_Line1\n",
      "9450 unique values, Total_Amount_of_Payment_USDollars\n",
      "1 unique values, Program_Year\n"
     ]
    }
   ],
   "source": [
    "## visualize information leak\n",
    "for i in X_cleaned.columns:\n",
    "    print(\"{0} unique values, {1}\".format(len(X_cleaned[i]\\\n",
    "                                              .unique()), i))"
   ]
  },
  {
   "cell_type": "code",
   "execution_count": 11,
   "metadata": {
    "scrolled": true
   },
   "outputs": [
    {
     "data": {
      "text/plain": [
       "No     19992\n",
       "Yes        8\n",
       "Name: Dispute_Status_for_Publication, dtype: int64"
      ]
     },
     "execution_count": 11,
     "metadata": {},
     "output_type": "execute_result"
    }
   ],
   "source": [
    "## visualize features with heavy imbalance\n",
    "## same for others mentioned\n",
    "X['Dispute_Status_for_Publication'].value_counts()"
   ]
  },
  {
   "cell_type": "code",
   "execution_count": 12,
   "metadata": {},
   "outputs": [
    {
     "name": "stdout",
     "output_type": "stream",
     "text": [
      "15606/20000 rows are the exactly same for two features.\n"
     ]
    }
   ],
   "source": [
    "## visualize highly repetitive feature\n",
    "same_row = sum(X['Applicable_Manufacturer_or_Applicable_\\\n",
    "GPO_Making_Payment_Name']== X['Submitting_Applicable_Manufacturer\\\n",
    "_or_Applicable_GPO_Name'])\n",
    "print(\"{}/20000 rows are the exactly same for two features.\".format(same_row))\n"
   ]
  },
  {
   "cell_type": "code",
   "execution_count": 13,
   "metadata": {},
   "outputs": [],
   "source": [
    "## drop features that are leaking information, highly repetitive,\n",
    "## heavily imbalanced, or simply meaningless\n",
    "bad_columns = ['Physician_First_Name', 'Physician_Primary_Type',\n",
    "               'Recipient_State', 'Recipient_City', \n",
    "               'Applicable_Manufacturer_or_'\\\n",
    "               'Applicable_GPO_Making_Payment_ID',\n",
    "               'Physician_Last_Name', \n",
    "               'Physician_Profile_ID',\n",
    "               'Recipient_Primary_Business_Street_Address_Line1', \n",
    "               'Recipient_Zip_Code', 'Covered_Recipient_Type',\n",
    "               'Physician_License_State_code1',\n",
    "               'Applicable_Manufacturer_or_Applicable'\\\n",
    "               '_GPO_Making_Payment_State',\n",
    "               'Applicable_Manufacturer_or_Applicable'\\\n",
    "               '_GPO_Making_Payment_Name',\n",
    "               'Recipient_Country', 'Dispute_Status_for_Publication', \n",
    "               'Applicable_Manufacturer_or_Applicable_GPO_Making'\\\n",
    "               '_Payment_Country',\n",
    "               'Program_Year', \n",
    "               'Delay_in_Publication_Indicator', 'Change_Type',\n",
    "               'Record_ID', 'Date_of_Payment', 'Payment_Publication_Date']\n",
    "X_cleaned_all = X_cleaned.drop(bad_columns, axis=1)"
   ]
  },
  {
   "cell_type": "code",
   "execution_count": 14,
   "metadata": {},
   "outputs": [
    {
     "data": {
      "text/plain": [
       "(20000, 10)"
      ]
     },
     "execution_count": 14,
     "metadata": {},
     "output_type": "execute_result"
    }
   ],
   "source": [
    "X_cleaned_all.shape"
   ]
  },
  {
   "cell_type": "markdown",
   "metadata": {},
   "source": [
    "## Task 2 Preprocessing and Baseline\n",
    "Create a simple minimum viable model by doing an initial selection of features, doing appropriate preprocessing and cross-validating a linear model. Feel free to generously exclude features or do simplified preprocessing for this task. As mentioned before, you don’t need to validate the model on the whole dataset."
   ]
  },
  {
   "cell_type": "markdown",
   "metadata": {},
   "source": [
    "### Task 2 Work Explanation: \n",
    "We used the features that we selected in task 1. For categorical features, we impute the missing values with simply a new category \"missing\", and encode them using OheHotEncoder. For continuous features, we standardized them using StandardScaler. We used logistic regression as our baseline model and it achieved a validation score of 0.982. "
   ]
  },
  {
   "cell_type": "code",
   "execution_count": 15,
   "metadata": {},
   "outputs": [],
   "source": [
    "from sklearn.linear_model import LogisticRegressionCV\n",
    "from sklearn.model_selection import train_test_split, \\\n",
    "cross_val_score\n",
    "from sklearn.compose import make_column_transformer\n",
    "from sklearn.pipeline import make_pipeline\n",
    "from sklearn.preprocessing import StandardScaler, \\\n",
    "OneHotEncoder\n",
    "from sklearn import svm\n",
    "from sklearn.linear_model import LogisticRegression\n",
    "from sklearn.model_selection import KFold,\\\n",
    "cross_val_score, StratifiedKFold\n",
    "from sklearn.impute import SimpleImputer"
   ]
  },
  {
   "cell_type": "code",
   "execution_count": 16,
   "metadata": {},
   "outputs": [
    {
     "name": "stdout",
     "output_type": "stream",
     "text": [
      "CPU times: user 16 ms, sys: 3.67 ms, total: 19.6 ms\n",
      "Wall time: 18.4 ms\n"
     ]
    }
   ],
   "source": [
    "%%time\n",
    "X_train, X_test, y_train, y_test = \\\n",
    "train_test_split(X_cleaned_all, y, stratify=y)\n",
    "categorical = X_train.dtypes == object\n",
    "enc = make_pipeline(SimpleImputer\\\n",
    "                    (strategy='constant', fill_value='Missing'), \n",
    "                             OneHotEncoder\\\n",
    "                    (sparse = False, handle_unknown='ignore'))\n",
    "pre = make_column_transformer((StandardScaler(), ~categorical),\n",
    "                            (enc, categorical))\n",
    "# pipe = make_pipeline(pre, KNeighborsClassifier(n_neighbors=5))\n",
    "#pipe.fit(X_train, y_train)\n",
    "#pipe.score(X_test, y_test)"
   ]
  },
  {
   "cell_type": "markdown",
   "metadata": {},
   "source": [
    "### Minimum Viable Model: Logistic Regression"
   ]
  },
  {
   "cell_type": "code",
   "execution_count": 17,
   "metadata": {},
   "outputs": [
    {
     "name": "stdout",
     "output_type": "stream",
     "text": [
      "validation score =  0.982\n",
      "CPU times: user 6.38 s, sys: 3.6 s, total: 9.98 s\n",
      "Wall time: 8.44 s\n"
     ]
    }
   ],
   "source": [
    "%%time\n",
    "lg_pipe = make_pipeline(pre, LogisticRegression())\n",
    "scores = cross_val_score(lg_pipe, X_train, y_train, cv =10)\n",
    "print(\"validation score = \", np.round(np.mean(scores),3))"
   ]
  },
  {
   "cell_type": "markdown",
   "metadata": {},
   "source": [
    "## Task 3 Feature Engineering\n",
    "Create derived features and perform more in-depth preprocessing and data cleaning. Does this improve your model? In particular, think about how to encode categorical variables."
   ]
  },
  {
   "cell_type": "markdown",
   "metadata": {},
   "source": [
    "### Task 3 Work Explanation: \n",
    "Categorical variables are encoded using target encoding instead of OneHotEncoder. It boosts the validation score by 1%. It is also much faster, takes less than 10% of the original time since OneHotEncoder takes a long time."
   ]
  },
  {
   "cell_type": "code",
   "execution_count": 18,
   "metadata": {},
   "outputs": [],
   "source": [
    "X_copy = X_cleaned_all.copy()\n",
    "X_copy = X_copy.fillna(value='Missing')\n",
    "X_train, X_test, y_train, y_test = \\\n",
    "train_test_split(X_copy, y, stratify=y)\n",
    "X_train['y'] = y_train\n",
    "X_test['y'] = y_test\n",
    "for i in X_train.columns:\n",
    "    X_train[i] = X_train[i].map(X_train.groupby(i)['y'].mean())\n",
    "#     X_test[i] = X_test[i].map(X_train.groupby(i)['y'].mean())\n",
    "X_train = X_train.drop(columns=['y'])\n",
    "# X_test = X_test.drop(columns=['y'])\n",
    "categorical = X_train.dtypes == object\n",
    "enc = make_pipeline(OneHotEncoder(sparse = False,\\\n",
    "                                  handle_unknown='ignore'))\n",
    "pre = make_column_transformer((StandardScaler(), ~categorical),\n",
    "                            (enc, categorical))"
   ]
  },
  {
   "cell_type": "code",
   "execution_count": 19,
   "metadata": {},
   "outputs": [
    {
     "name": "stdout",
     "output_type": "stream",
     "text": [
      "validation score =  0.993\n",
      "CPU times: user 771 ms, sys: 16.8 ms, total: 787 ms\n",
      "Wall time: 434 ms\n"
     ]
    }
   ],
   "source": [
    "%%time\n",
    "lg_pipe = make_pipeline(pre, LogisticRegression())\n",
    "scores = cross_val_score(lg_pipe, X_train, y_train, cv =10)\n",
    "lg_pipe.fit(X_train, y_train)\n",
    "print(\"validation score = \", np.round(np.mean(scores),3))"
   ]
  },
  {
   "cell_type": "markdown",
   "metadata": {},
   "source": [
    "## Task 4 Any model\n",
    "Use any classification model we discussed (trees, forests, gradient boosting, SVM) to improve your result. You can (and probably should) change your preprocessing and feature engineering to be suitable for the model. You are not required to try all of these models. Tune parameters as appropriate."
   ]
  },
  {
   "cell_type": "markdown",
   "metadata": {},
   "source": [
    "### Task 4 Work Explanation: \n",
    "We ran SVM and random forest classification models and tuned the parameters of random forest model. The validation scores of both models and the best parameters are printed. "
   ]
  },
  {
   "cell_type": "markdown",
   "metadata": {},
   "source": [
    "### SVM"
   ]
  },
  {
   "cell_type": "code",
   "execution_count": 20,
   "metadata": {},
   "outputs": [
    {
     "name": "stdout",
     "output_type": "stream",
     "text": [
      "validation score = 0.993\n",
      "CPU times: user 3.74 s, sys: 64.2 ms, total: 3.8 s\n",
      "Wall time: 2.12 s\n"
     ]
    }
   ],
   "source": [
    "%%time\n",
    "svm_pipe = make_pipeline(pre, svm.SVC(gamma='scale'))\n",
    "scores = cross_val_score(svm_pipe, X_train, y_train, cv =10)\n",
    "print(\"validation score =\", np.round(np.mean(scores),3))"
   ]
  },
  {
   "cell_type": "markdown",
   "metadata": {},
   "source": [
    "### Random Forest"
   ]
  },
  {
   "cell_type": "code",
   "execution_count": 21,
   "metadata": {},
   "outputs": [
    {
     "name": "stdout",
     "output_type": "stream",
     "text": [
      "best mean cross-validation score: 0.996\n",
      "{'randomforestclassifier__max_depth': 90, 'randomforestclassifier__max_features': 4}\n",
      "CPU times: user 1min 10s, sys: 217 ms, total: 1min 11s\n",
      "Wall time: 1min 11s\n"
     ]
    }
   ],
   "source": [
    "%%time\n",
    "from sklearn.ensemble import RandomForestClassifier\n",
    "from sklearn.model_selection import GridSearchCV\n",
    "rm_pipe = make_pipeline(pre, \\\n",
    "                        RandomForestClassifier(n_estimators = 100))\n",
    "param_grid = {\n",
    "    \"randomforestclassifier__max_depth\": [80, 90, 100, 110],\n",
    "    'randomforestclassifier__max_features': [2, 3, 4]\n",
    "    #'randomforestclassifier__n_estimators': [100, 200, 300, 1000]\n",
    "}\n",
    "grid = GridSearchCV(rm_pipe, param_grid, cv =10)\n",
    "grid.fit(X_train, y_train)\n",
    "print(\"best mean cross-validation score: {:.3f}\"\\\n",
    "      .format(grid.best_score_))\n",
    "print(grid.best_params_)\n",
    "#scores = cross_val_score(rm_pipe, X_train, y_train, cv =10)\n",
    "#print(\"validation score =\", np.round(np.mean(scores),3))\n",
    "#rm_pipe.fit(X_train, y_train)\n",
    "#print(\"Test Score = \",rm_pipe.score(X_test, y_test))"
   ]
  },
  {
   "cell_type": "markdown",
   "metadata": {},
   "source": [
    "## Task 5 Feature Selections\n",
    "Identify features that are important for your best model. Which features are most influential, and which features could be removed without decrease in performance? Does removing irrelevant features make your model better?"
   ]
  },
  {
   "cell_type": "markdown",
   "metadata": {},
   "source": [
    "### Task 5 Work Explanation: \n",
    "Keeping only two features, 'Physician_Specialty' and 'Total_Amount_of_Payment_USDollars', only decreases the validation score by 0.003. Keepling only one feature, 'Physician_Specialty', still manages to maintain a high validation score of 0.976. It is fairly obvious that 'Physician_Specialty' is the most important feature and 'Total_Amount_of_Payment_USDollars' is the second most important feature. Removing irrelevant features certainly makes the model much faster to run, but sacrifices some accuracy. It depends on the actual scenario to select the number of features to keep. The logistic regression coefficients plot in the end also confirms the top 2 important features we discovered."
   ]
  },
  {
   "cell_type": "code",
   "execution_count": 22,
   "metadata": {},
   "outputs": [
    {
     "name": "stdout",
     "output_type": "stream",
     "text": [
      "validation score =  0.991\n",
      "['Physician_Specialty', 'Total_Amount_of_Payment_USDollars']\n",
      "CPU times: user 455 ms, sys: 8.97 ms, total: 464 ms\n",
      "Wall time: 256 ms\n"
     ]
    }
   ],
   "source": [
    "%%time\n",
    "from sklearn.feature_selection import \\\n",
    "SelectKBest, SelectPercentile, SelectFpr\n",
    "from sklearn.feature_selection import f_regression\n",
    "select = SelectKBest(k=2,score_func = f_regression)\n",
    "select_pipe = make_pipeline(StandardScaler(),select,\\\n",
    "                            LogisticRegression())\n",
    "scores = cross_val_score(select_pipe, X_train, y_train, cv=10)\n",
    "print(\"validation score = \", np.round(np.mean(scores),3))\n",
    "select.fit(X_train, y_train)\n",
    "features_names = list(X_train.columns[select.\\\n",
    "                                      get_support(indices=True)])\n",
    "print(features_names)"
   ]
  },
  {
   "cell_type": "code",
   "execution_count": 23,
   "metadata": {},
   "outputs": [
    {
     "name": "stdout",
     "output_type": "stream",
     "text": [
      "validation score =  0.977\n",
      "['Physician_Specialty']\n"
     ]
    }
   ],
   "source": [
    "select = SelectKBest(k=1,score_func = f_regression)\n",
    "select_pipe = make_pipeline(StandardScaler(),\\\n",
    "                            select,LogisticRegression())\n",
    "scores = cross_val_score(select_pipe, X_train, y_train, cv=10)\n",
    "print(\"validation score = \", np.round(np.mean(scores),3))\n",
    "select.fit(X_train, y_train)\n",
    "features_names = list(X_train.columns\\\n",
    "                      [select.get_support(indices=True)])\n",
    "print(features_names)"
   ]
  },
  {
   "cell_type": "code",
   "execution_count": 25,
   "metadata": {},
   "outputs": [
    {
     "data": {
      "text/plain": [
       "<matplotlib.figure.Figure at 0x135eb2710>"
      ]
     },
     "metadata": {},
     "output_type": "display_data"
    },
    {
     "data": {
      "image/png": "[encoded data removed]",
      "text/plain": [
       "<matplotlib.figure.Figure at 0x135eb2048>"
      ]
     },
     "metadata": {},
     "output_type": "display_data"
    }
   ],
   "source": [
    "import matplotlib.pyplot as plt\n",
    "plt.figure(figsize=(20,10))\n",
    "fig, ax = plt.subplots()\n",
    "ax.barh(np.arange(len(X_train.columns)), lg_pipe.\\\n",
    "        named_steps['logisticregression'].coef_[0], align='center')\n",
    "ax.set_yticks(np.arange(len(X_train.columns)))\n",
    "ax.set_yticklabels(X_train.columns)\n",
    "plt.show()"
   ]
  },
  {
   "cell_type": "markdown",
   "metadata": {},
   "source": [
    "## Task 6 An explainable model\n",
    "Can you create an “explainable” model that is nearly as good as your best model? An explainable model should be small enough to be easily inspected - say a linear model with few enough coefficients that you can reasonable look at all of them, or a tree with a small number of leafs etc."
   ]
  },
  {
   "cell_type": "markdown",
   "metadata": {},
   "source": [
    "### Task 6 Work Explanation: \n",
    "We created a simple decision tree with max_depth=2, with the two most important features we discovered in task 5. The validation score is nearly as good as our random forest model in task 4. The tree plot is shown below. "
   ]
  },
  {
   "cell_type": "code",
   "execution_count": 26,
   "metadata": {},
   "outputs": [
    {
     "name": "stdout",
     "output_type": "stream",
     "text": [
      "validation score = 0.992\n"
     ]
    }
   ],
   "source": [
    "X_explain = X[['Physician_Specialty', 'Total_Amount_of_Payment_USDollars']]\n",
    "X_explain = X_explain.fillna(value='Missing')\n",
    "X_train, X_test, y_train, y_test = train_test_split(X_explain, y, stratify=y)\n",
    "X_train['y'] = y_train\n",
    "for i in X_train.columns:\n",
    "    X_train[i] = X_train[i].map(X_train.groupby(i)['y'].mean())\n",
    "X_train = X_train.drop(columns=['y'])\n",
    "from sklearn import tree\n",
    "clf = tree.DecisionTreeClassifier(max_depth=2)\n",
    "scores = cross_val_score(clf, X_train, y_train, cv =10)\n",
    "print(\"validation score =\", np.round(np.mean(scores),3))"
   ]
  },
  {
   "cell_type": "code",
   "execution_count": 27,
   "metadata": {},
   "outputs": [
    {
     "data": {
      "image/png": "[encoded data removed]",
      "text/plain": [
       "<IPython.core.display.Image object>"
      ]
     },
     "execution_count": 27,
     "metadata": {},
     "output_type": "execute_result"
    }
   ],
   "source": [
    "from graphviz import Source\n",
    "from IPython.display import SVG\n",
    "from sklearn.tree import export_graphviz\n",
    "from IPython.display import Image\n",
    "import pydotplus\n",
    "clf.fit(X_train, y_train)\n",
    "dot_data = tree.export_graphviz(clf,\n",
    "                                feature_names=X_train.columns,\n",
    "                                out_file=None,\n",
    "                                filled=True,\n",
    "                                rounded=True)\n",
    "graph = pydotplus.graph_from_dot_data(dot_data)\n",
    "Image(graph.create_png()) "
   ]
  },
  {
   "cell_type": "code",
   "execution_count": null,
   "metadata": {},
   "outputs": [],
   "source": []
  }
 ],
 "metadata": {
  "kernelspec": {
   "display_name": "Python 3",
   "language": "python",
   "name": "python3"
  },
  "language_info": {
   "codemirror_mode": {
    "name": "ipython",
    "version": 3
   },
   "file_extension": ".py",
   "mimetype": "text/x-python",
   "name": "python",
   "nbconvert_exporter": "python",
   "pygments_lexer": "ipython3",
   "version": "3.7.1"
  }
 },
 "nbformat": 4,
 "nbformat_minor": 2
}
